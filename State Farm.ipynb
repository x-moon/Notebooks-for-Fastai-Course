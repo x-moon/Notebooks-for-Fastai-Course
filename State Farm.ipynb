{
 "cells": [
  {
   "cell_type": "markdown",
   "metadata": {},
   "source": [
    "# State Farm Driver Distraction Challenge\n",
    "\n",
    "https://www.kaggle.com/c/state-farm-distracted-driver-detection#evaluation\n"
   ]
  },
  {
   "cell_type": "markdown",
   "metadata": {},
   "source": [
    "Need to setup all the file directories. When downloaded, we have a test set and train set (divided in c0-c9). We need to create our own validation set. In the future, we can probably automate this. %find doesn't work as magic command, so the find and mv commands need to be copy + pasted manually for now."
   ]
  },
  {
   "cell_type": "code",
   "execution_count": 12,
   "metadata": {
    "collapsed": false,
    "scrolled": true
   },
   "outputs": [
    {
     "name": "stdout",
     "output_type": "stream",
     "text": [
      "/home/ubuntu\n",
      "/home/ubuntu/nbs/data/statefarm\n",
      "mkdir: cannot create directory ‘valid/’: File exists\n",
      "mkdir: cannot create directory ‘valid/c0’: File exists\n",
      "mkdir: cannot create directory ‘train/c0/copy’: File exists\n"
     ]
    },
    {
     "name": "stderr",
     "output_type": "stream",
     "text": [
      "ERROR:root:Line magic function `%find` not found.\n"
     ]
    },
    {
     "name": "stdout",
     "output_type": "stream",
     "text": [
      "/home/ubuntu/nbs/data/statefarm/train/c0\n",
      "/home/ubuntu/nbs/data/statefarm\n",
      "mv: cannot stat ‘train/c0/copy/*’: No such file or directory\r\n"
     ]
    },
    {
     "name": "stderr",
     "output_type": "stream",
     "text": [
      "ERROR:root:Line magic function `%find` not found.\n"
     ]
    },
    {
     "name": "stdout",
     "output_type": "stream",
     "text": [
      "/home/ubuntu/nbs/data/statefarm/train/c1\n",
      "/home/ubuntu/nbs/data/statefarm\n",
      "mv: cannot stat ‘train/c1/copy/*’: No such file or directory\r\n"
     ]
    },
    {
     "name": "stderr",
     "output_type": "stream",
     "text": [
      "ERROR:root:Line magic function `%find` not found.\n"
     ]
    },
    {
     "name": "stdout",
     "output_type": "stream",
     "text": [
      "/home/ubuntu/nbs/data/statefarm/train/c2\n",
      "/home/ubuntu/nbs/data/statefarm\n",
      "mv: cannot stat ‘train/c2/copy/*’: No such file or directory\r\n"
     ]
    },
    {
     "name": "stderr",
     "output_type": "stream",
     "text": [
      "ERROR:root:Line magic function `%find` not found.\n"
     ]
    },
    {
     "name": "stdout",
     "output_type": "stream",
     "text": [
      "/home/ubuntu/nbs/data/statefarm/train/c3\n",
      "/home/ubuntu/nbs/data/statefarm\n",
      "mv: cannot stat ‘train/c3/copy/*’: No such file or directory\r\n"
     ]
    },
    {
     "name": "stderr",
     "output_type": "stream",
     "text": [
      "ERROR:root:Line magic function `%find` not found.\n"
     ]
    },
    {
     "name": "stdout",
     "output_type": "stream",
     "text": [
      "/home/ubuntu/nbs/data/statefarm/train/c4\n",
      "/home/ubuntu/nbs/data/statefarm\n",
      "mv: cannot stat ‘train/c4/copy/*’: No such file or directory\r\n"
     ]
    },
    {
     "name": "stderr",
     "output_type": "stream",
     "text": [
      "ERROR:root:Line magic function `%find` not found.\n"
     ]
    },
    {
     "name": "stdout",
     "output_type": "stream",
     "text": [
      "/home/ubuntu/nbs/data/statefarm/train/c5\n",
      "/home/ubuntu/nbs/data/statefarm\n",
      "mv: cannot stat ‘train/c5/copy/*’: No such file or directory\r\n"
     ]
    },
    {
     "name": "stderr",
     "output_type": "stream",
     "text": [
      "ERROR:root:Line magic function `%find` not found.\n"
     ]
    },
    {
     "name": "stdout",
     "output_type": "stream",
     "text": [
      "/home/ubuntu/nbs/data/statefarm/train/c6\n",
      "/home/ubuntu/nbs/data/statefarm\n",
      "mv: cannot stat ‘train/c6/copy/*’: No such file or directory\r\n"
     ]
    },
    {
     "name": "stderr",
     "output_type": "stream",
     "text": [
      "ERROR:root:Line magic function `%find` not found.\n"
     ]
    },
    {
     "name": "stdout",
     "output_type": "stream",
     "text": [
      "/home/ubuntu/nbs/data/statefarm/train/c7\n",
      "/home/ubuntu/nbs/data/statefarm\n",
      "mv: cannot stat ‘train/c7/copy/*’: No such file or directory\r\n"
     ]
    },
    {
     "name": "stderr",
     "output_type": "stream",
     "text": [
      "ERROR:root:Line magic function `%find` not found.\n"
     ]
    },
    {
     "name": "stdout",
     "output_type": "stream",
     "text": [
      "/home/ubuntu/nbs/data/statefarm/train/c8\n",
      "/home/ubuntu/nbs/data/statefarm\n",
      "mv: cannot stat ‘train/c8/copy/*’: No such file or directory\r\n"
     ]
    },
    {
     "name": "stderr",
     "output_type": "stream",
     "text": [
      "ERROR:root:Line magic function `%find` not found.\n"
     ]
    },
    {
     "name": "stdout",
     "output_type": "stream",
     "text": [
      "/home/ubuntu/nbs/data/statefarm/train/c9\n",
      "/home/ubuntu/nbs/data/statefarm\n",
      "mv: cannot stat ‘train/c9/copy/*’: No such file or directory\r\n"
     ]
    }
   ],
   "source": [
    "%cd ~\n",
    "%cd nbs/data/statefarm/\n",
    "%mkdir valid/\n",
    "%mkdir valid/c0\n",
    "%mkdir train/c0/copy\n",
    "%cd train/c0\n",
    "%find . -maxdepth 1 -type f | head -100 | xargs cp -t copy\n",
    "%cd ../..\n",
    "%mv train/c0/copy/* valid/c0/\n",
    "\n",
    "%mkdir valid/c1\n",
    "%mkdir train/c1/copy\n",
    "%cd train/c1\n",
    "%find . -maxdepth 1 -type f | head -100 | xargs cp -t copy\n",
    "%cd ../..\n",
    "%mv train/c1/copy/* valid/c1/\n",
    "\n",
    "%mkdir valid/c2\n",
    "%mkdir train/c2/copy\n",
    "%cd train/c2\n",
    "%find . -maxdepth 1 -type f | head -100 | xargs cp -t copy\n",
    "%cd ../..\n",
    "%mv train/c2/copy/* valid/c2/\n",
    "\n",
    "%mkdir valid/c3\n",
    "%mkdir train/c3/copy\n",
    "%cd train/c3\n",
    "%find . -maxdepth 1 -type f | head -100 | xargs cp -t copy\n",
    "%cd ../..\n",
    "%mv train/c3/copy/* valid/c3/\n",
    "\n",
    "%mkdir valid/c4\n",
    "%mkdir train/c4/copy\n",
    "%cd train/c4\n",
    "%find . -maxdepth 1 -type f | head -100 | xargs cp -t copy\n",
    "%cd ../..\n",
    "%mv train/c4/copy/* valid/c4/\n",
    "\n",
    "%mkdir valid/c5\n",
    "%mkdir train/c5/copy\n",
    "%cd train/c5\n",
    "%find . -maxdepth 1 -type f | head -100 | xargs cp -t copy\n",
    "%cd ../..\n",
    "%mv train/c5/copy/* valid/c5/\n",
    "\n",
    "%mkdir valid/c6\n",
    "%mkdir train/c6/copy\n",
    "%cd train/c6\n",
    "%find . -maxdepth 1 -type f | head -100 | xargs cp -t copy\n",
    "%cd ../..\n",
    "%mv train/c6/copy/* valid/c6/\n",
    "\n",
    "%mkdir valid/c7\n",
    "%mkdir train/c7/copy\n",
    "%cd train/c7\n",
    "%find . -maxdepth 1 -type f | head -100 | xargs cp -t copy\n",
    "%cd ../..\n",
    "%mv train/c7/copy/* valid/c7/\n",
    "\n",
    "%mkdir valid/c8\n",
    "%mkdir train/c8/copy\n",
    "%cd train/c8\n",
    "%find . -maxdepth 1 -type f | head -100 | xargs cp -t copy\n",
    "%cd ../..\n",
    "%mv train/c8/copy/* valid/c8/\n",
    "\n",
    "%mkdir valid/c9\n",
    "%mkdir train/c9/copy\n",
    "%cd train/c9\n",
    "%find . -maxdepth 1 -type f | head -100 | xargs cp -t copy\n",
    "%cd ../..\n",
    "%mv train/c9/copy/* valid/c9/\n",
    "\n",
    "%cd ../..\n",
    "\n",
    "\n",
    "\n"
   ]
  },
  {
   "cell_type": "code",
   "execution_count": 17,
   "metadata": {
    "collapsed": false
   },
   "outputs": [
    {
     "data": {
      "text/plain": [
       "u'/home/ubuntu/nbs'"
      ]
     },
     "execution_count": 17,
     "metadata": {},
     "output_type": "execute_result"
    }
   ],
   "source": [
    "#Check directory\n",
    "%pwd"
   ]
  },
  {
   "cell_type": "code",
   "execution_count": 18,
   "metadata": {
    "collapsed": false
   },
   "outputs": [],
   "source": [
    "import os, sys\n",
    "#Reference to important directories\n",
    "current_dir = os.getcwd()\n",
    "LESSON_HOME_DIR = current_dir\n",
    "DATA_HOME_DIR = current_dir + 'data/statefarm'\n",
    "#???\"Allow realtive imports to directories above this one\"\n",
    "sys.path.insert(1, os.path.join(sys.path[0], '..'))\n",
    "import utils; reload(utils)\n",
    "from utils import *\n",
    "#Recall: Utils is a file we downloaded from Fast.ai\n",
    "%matplotlib inline"
   ]
  },
  {
   "cell_type": "markdown",
   "metadata": {},
   "source": [
    "path = \"data/statefarm/\"\n",
    "model_path = path + \"models/\"\n",
    "if not os.path.exists(model_path): os.mkdir(model_path)"
   ]
  },
  {
   "cell_type": "markdown",
   "metadata": {},
   "source": [
    "Adjust batch size until it gives a memory erorr. Starting iwth 64 for now, but may be able to go up to 100+"
   ]
  },
  {
   "cell_type": "code",
   "execution_count": 19,
   "metadata": {
    "collapsed": true
   },
   "outputs": [],
   "source": [
    "#Import VGG16 Model\n",
    "from vgg16 import Vgg16\n",
    "vgg = Vgg16()\n",
    "model = vgg.model"
   ]
  },
  {
   "cell_type": "code",
   "execution_count": 20,
   "metadata": {
    "collapsed": true
   },
   "outputs": [],
   "source": [
    "batch_size = 64"
   ]
  },
  {
   "cell_type": "code",
   "execution_count": 21,
   "metadata": {
    "collapsed": false,
    "scrolled": true
   },
   "outputs": [],
   "source": [
    "#Other Constant, need to experiment:\n",
    "no_of_epochs = 2"
   ]
  },
  {
   "cell_type": "code",
   "execution_count": 25,
   "metadata": {
    "collapsed": false
   },
   "outputs": [
    {
     "name": "stdout",
     "output_type": "stream",
     "text": [
      "Found 22424 images belonging to 10 classes.\n",
      "Found 1000 images belonging to 11 classes.\n"
     ]
    }
   ],
   "source": [
    "#Setup and train model\n",
    "train_path = path + '/train/'\n",
    "valid_path = path + '/valid/'\n",
    "#Finetuning\n",
    "batches = vgg.get_batches(train_path, batch_size = batch_size)\n",
    "val_batches = vgg.get_batches(valid_path, batch_size=batch_size*2)\n",
    "vgg.finetune(batches)"
   ]
  },
  {
   "cell_type": "code",
   "execution_count": 26,
   "metadata": {
    "collapsed": false
   },
   "outputs": [],
   "source": [
    "#Tweak Learning Rate\n",
    "vgg.model.optimizer.lr = 0.01"
   ]
  },
  {
   "cell_type": "markdown",
   "metadata": {},
   "source": [
    "So far, we have three constants we can tweak:\n",
    "1. Batch size\n",
    "2. Number of Epochs\n",
    "3. Learning Rate (Having issues setting this)"
   ]
  },
  {
   "cell_type": "code",
   "execution_count": null,
   "metadata": {
    "collapsed": false
   },
   "outputs": [
    {
     "name": "stdout",
     "output_type": "stream",
     "text": [
      "Epoch #: 0\n",
      "Epoch 1/1\n",
      "   64/22424 [..............................] - ETA: 6056s - loss: 4.6052 - acc: 0.1250"
     ]
    }
   ],
   "source": [
    "#Fitting Model\n",
    "#Iterate through # of epochs, testing against validation set\n",
    "latest_weights_filename = None\n",
    "for epoch in range(no_of_epochs):\n",
    "    print 'Epoch #: %d' %epoch\n",
    "    vgg.fit(batches,val_batches, nb_epoch=1)\n",
    "    latest_weights_filename = 'ft%d.h5' %epoch\n",
    "    vgg.model.save_weights(results_path+latest_weights_filename)\n",
    "    print 'Completed %s fit operations' %no_of_epochs"
   ]
  },
  {
   "cell_type": "code",
   "execution_count": null,
   "metadata": {
    "collapsed": true
   },
   "outputs": [],
   "source": []
  }
 ],
 "metadata": {
  "anaconda-cloud": {},
  "kernelspec": {
   "display_name": "Python [conda root]",
   "language": "python",
   "name": "conda-root-py"
  },
  "language_info": {
   "codemirror_mode": {
    "name": "ipython",
    "version": 2
   },
   "file_extension": ".py",
   "mimetype": "text/x-python",
   "name": "python",
   "nbconvert_exporter": "python",
   "pygments_lexer": "ipython2",
   "version": "2.7.12"
  }
 },
 "nbformat": 4,
 "nbformat_minor": 1
}
